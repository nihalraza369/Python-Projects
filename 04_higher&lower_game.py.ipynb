{
  "nbformat": 4,
  "nbformat_minor": 0,
  "metadata": {
    "colab": {
      "provenance": []
    },
    "kernelspec": {
      "name": "python3",
      "display_name": "Python 3"
    },
    "language_info": {
      "name": "python"
    }
  },
  "cells": [
    {
      "cell_type": "code",
      "execution_count": null,
      "metadata": {
        "colab": {
          "base_uri": "https://localhost:8080/"
        },
        "id": "rYbMAX9Okctg",
        "outputId": "47ff5ba5-5ab0-4f65-a7aa-12b1452c0b55"
      },
      "outputs": [
        {
          "output_type": "stream",
          "name": "stdout",
          "text": [
            "Welcome to the High-Low Game!\n",
            "--------------------------------\n",
            "Round 1\n",
            "Your number is 60\n",
            "Do you think your number is higher or lower than the computer's? (higher/lower): higher\n",
            "You were right! The computer's number was 49\n",
            "Your score is now 1\n",
            "\n",
            "Round 2\n",
            "Your number is 74\n",
            "Do you think your number is higher or lower than the computer's? (higher/lower): lower\n",
            "You were right! The computer's number was 77\n",
            "Your score is now 2\n",
            "\n",
            "Round 3\n",
            "Your number is 35\n",
            "Do you think your number is higher or lower than the computer's? (higher/lower): higher\n",
            "You were right! The computer's number was 14\n",
            "Your score is now 3\n",
            "\n",
            "Round 4\n",
            "Your number is 2\n",
            "Do you think your number is higher or lower than the computer's? (higher/lower): higher\n",
            "Aww, that's incorrect. The computer's number was 59\n",
            "Your score is now 3\n",
            "\n",
            "Round 5\n",
            "Your number is 51\n",
            "Do you think your number is higher or lower than the computer's? (higher/lower): higher\n",
            "You were right! The computer's number was 24\n",
            "Your score is now 4\n",
            "\n",
            "Thanks for playing!\n",
            "Good job, you played really well!\n"
          ]
        }
      ],
      "source": [
        "\"This is a higher and lower game, and there will be 5 rounds. The numbers will range from 1 to 100, and a number will appear in front of the player. They just have to guess whether it is lower or higher.\"\n",
        "import random\n",
        "\n",
        "\n",
        "NUM_ROUNDS = 5\n",
        "\n",
        "\n",
        "print(\"Welcome to the High-Low Game!\")\n",
        "print(\"--------------------------------\")\n",
        "\n",
        "\n",
        "score = 0\n",
        "\n",
        "\n",
        "for round_number in range(1, NUM_ROUNDS + 1):\n",
        "    print(f\"Round {round_number}\")\n",
        "\n",
        "    user_number = random.randint(1, 100)\n",
        "    computer_number = random.randint(1, 100)\n",
        "\n",
        "    print(f\"Your number is {user_number}\")\n",
        "\n",
        "\n",
        "    user_guess = input(\"Do you think your number is higher or lower than the computer's? (higher/lower): \").strip().lower()\n",
        "\n",
        "    if (user_guess == \"higher\" and user_number > computer_number) or (user_guess == \"lower\" and user_number < computer_number):\n",
        "        print(\"You were right! The computer's number was\", computer_number)\n",
        "        score += 1\n",
        "    else:\n",
        "        print(\"Aww, that's incorrect. The computer's number was\", computer_number)\n",
        "\n",
        "\n",
        "    print(\"Your score is now\", score)\n",
        "    print()\n",
        "\n",
        "print(\"Thanks for playing!\")\n",
        "\n",
        "if score == NUM_ROUNDS:\n",
        "    print(\"Wow! You played perfectly!\")\n",
        "elif score >= NUM_ROUNDS //2 :\n",
        "    print(\"Good job, you played really well!\")\n",
        "else:\n",
        "    print(\"Better luck next time!\")\n"
      ]
    }
  ]
}