{
  "nbformat": 4,
  "nbformat_minor": 0,
  "metadata": {
    "colab": {
      "provenance": []
    },
    "kernelspec": {
      "name": "python3",
      "display_name": "Python 3"
    },
    "language_info": {
      "name": "python"
    }
  },
  "cells": [
    {
      "cell_type": "code",
      "execution_count": 3,
      "metadata": {
        "colab": {
          "base_uri": "https://localhost:8080/"
        },
        "id": "fXVXlY6mHUlc",
        "outputId": "95d8983d-b688-4cc1-fcde-2038143db17c"
      },
      "outputs": [
        {
          "output_type": "stream",
          "name": "stdout",
          "text": [
            "Enter a weight on Earth: 120\n",
            "enter a planet: jupiter\n",
            "The equivalent weight on jupiter: 283.2\n"
          ]
        }
      ],
      "source": [
        "#\"I have made a weight calculator in this game. You just need to enter your weight first, and then in the gravity-factor, there are names of planets. If you choose any planet's name, it will add the weight for that planet to your weight.\n",
        "earth_weight = float(input(\"Enter a weight on Earth: \"))\n",
        "\n",
        "gravity_factors = {\n",
        "    \"mercury\": 0.376,\n",
        "    \"venus\": 0.889,\n",
        "    \"mars\": 0.378,\n",
        "    \"jupiter\":2.36,\n",
        "    \"saturn\":1.081,\n",
        "    \"uranus\":0.815,\n",
        "    \"neptune\":1.14\n",
        "    }\n",
        "\n",
        "planet=input(\"enter a planet: \")\n",
        "\n",
        "if planet in gravity_factors:\n",
        "    planet_weight = earth_weight * gravity_factors[planet]\n",
        "    print(f\"The equivalent weight on {planet}:\", round(planet_weight, 2))\n",
        "else:\n",
        "    print(\"Invalid planet name.\")\n",
        "#\n",
        "\"The game I have made below is the same, but I made this game easier. The game below is a bit harder than this one.\""
      ]
    },
    {
      "cell_type": "code",
      "source": [
        "MERCURY_GRAVITY = 0.376\n",
        "VENUS_GRAVITY = 0.889\n",
        "MARS_GRAVITY = 0.378\n",
        "JUPITER_GRAVITY = 2.36\n",
        "SATURN_GRAVITY = 1.081\n",
        "URANUS_GRAVITY = 0.815\n",
        "NEPTUNE_GRAVITY = 1.14\n",
        "def main():\n",
        "    earth_weight = float(input(\"Enter a weight on Earth: \"))\n",
        "    planet = input(\"Enter a planet: \")\n",
        "    if planet == \"Mercury\":\n",
        "        gravity_constant = MERCURY_GRAVITY\n",
        "    elif planet == \"Venus\":\n",
        "        gravity_constant = VENUS_GRAVITY\n",
        "    elif planet == \"Mars\":\n",
        "        gravity_constant = MARS_GRAVITY\n",
        "    elif planet == \"Jupiter\":\n",
        "        gravity_constant = JUPITER_GRAVITY\n",
        "    elif planet == \"Saturn\":\n",
        "        gravity_constant = SATURN_GRAVITY\n",
        "    elif planet == \"Uranus\":\n",
        "        gravity_constant = URANUS_GRAVITY\n",
        "    else:\n",
        "        gravity_constant = NEPTUNE_GRAVITY\n",
        "\n",
        "    planetary_weight = earth_weight * gravity_constant\n",
        "    rounded_planetary_weight = round(planetary_weight, 2)\n",
        "\n",
        "    print(\"The equivalent weight on \" + planet + \":  \" + str(rounded_planetary_weight))\n",
        "\n",
        "if __name__ == \"__main__\":\n",
        "    main()\n"
      ],
      "metadata": {
        "colab": {
          "base_uri": "https://localhost:8080/"
        },
        "id": "F4YAzOzeHvv-",
        "outputId": "bffff28b-d4cf-49b3-de9a-8b0b937f38d2"
      },
      "execution_count": 4,
      "outputs": [
        {
          "output_type": "stream",
          "name": "stdout",
          "text": [
            "Enter a weight on Earth: 67\n",
            "Enter a planet: mercury\n",
            "The equivalent weight on mercury:  76.38\n"
          ]
        }
      ]
    }
  ]
}