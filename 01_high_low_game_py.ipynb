{
  "cells": [
    {
      "cell_type": "code",
      "execution_count": 1,
      "metadata": {
        "colab": {
          "base_uri": "https://localhost:8080/"
        },
        "id": "HaeUzFE-7HUU",
        "outputId": "bdfed389-1e7b-4f31-9da7-14b323b46fb5"
      },
      "outputs": [
        {
          "output_type": "stream",
          "name": "stdout",
          "text": [
            "I am thinking of a number between 0 and 99...\n",
            "Enter a guess: 78\n",
            "Your guess is too low\n",
            "Enter a guess: 89\n",
            "Your guess is too high\n",
            "Enter a guess: 75\n",
            "Your guess is too low\n",
            "Enter a guess: 80\n",
            "Congrats! The number was: 80🎉🥳 \n",
            "\n"
          ]
        }
      ],
      "source": [
        "#\"Whoever guesses a number between high and low will get 1 point, and the score will keep increasing by 1.\"\n",
        "import random\n",
        "\n",
        "def main():\n",
        "    secret_number = random.randint(0,99)\n",
        "    guess = None\n",
        "    name1:str=\"yes\"\n",
        "    name2:str=\"no\"\n",
        "\n",
        "    print(\"I am thinking of a number between 0 and 99...\")\n",
        "\n",
        "    while guess != secret_number:\n",
        "        guess = int(input(\"Enter a guess: \"))\n",
        "\n",
        "\n",
        "        if guess > secret_number:\n",
        "            print(\"Your guess is too high\")\n",
        "        elif guess < secret_number:\n",
        "            print(\"Your guess is too low\")\n",
        "        else:\n",
        "            print(f\"Congrats! The number was: {secret_number}🎉🥳 \")\n",
        "            print()\n",
        "\n",
        "\n",
        "if __name__ == '__main__':\n",
        "    main()\n"
      ]
    },
    {
      "cell_type": "code",
      "execution_count": null,
      "metadata": {
        "colab": {
          "base_uri": "https://localhost:8080/"
        },
        "id": "LE4cvEoXKkz0",
        "outputId": "162dcc21-5b81-4a6b-d9e4-8fda94d0d198"
      },
      "outputs": [
        {
          "output_type": "stream",
          "name": "stdout",
          "text": [
            "I am thinking of a number between 0 and 99...\n",
            "\n",
            "Enter a guess: 89\n",
            "Your guess is too high\n",
            "\n",
            "Enter a guess: 40\n",
            "Your guess is too low\n",
            "\n",
            "Enter a guess: 50\n",
            "Your guess is too low\n",
            "\n",
            "Enter a guess: 60\n",
            "Your guess is too low\n",
            "\n",
            "Enter a guess: 70\n",
            "Your guess is too low\n",
            "\n",
            "Enter a guess: 80\n",
            "Your guess is too low\n",
            "\n",
            "Enter a guess: 87\n",
            "Your guess is too high\n",
            "\n",
            "Enter a guess: 85\n",
            "Your guess is too high\n",
            "\n",
            "Enter a guess: 82\n",
            "Your guess is too low\n",
            "\n",
            "Enter a guess: 84\n",
            "Your guess is too high\n",
            "\n",
            "Enter a guess: 83\n",
            "Congrats! The number was: 83 🎉🥳 \n",
            "\n",
            "Do you want to play again? (yes/no): yes\n",
            "\n",
            "Let's go! Starting a new game.\n",
            "I am thinking of a number between 0 and 99...\n",
            "\n",
            "Enter a guess: 89\n",
            "Your guess is too high\n",
            "\n",
            "Enter a guess: 50\n",
            "Your guess is too high\n",
            "\n",
            "Enter a guess: 40\n",
            "Your guess is too high\n",
            "\n",
            "Enter a guess: 30\n",
            "Congrats! The number was: 30 🎉🥳 \n",
            "\n",
            "Do you want to play again? (yes/no): no\n",
            "\n",
            "Sorry to see you go!\n"
          ]
        }
      ],
      "source": [
        "#\"This game is similar to the previous one, but in this, if you win the game, it will ask you if you want to play again. If you say 'yes,'the game will continue, and if you say 'no,' it will send a message saying 'Sorry to see you go!'\"\n",
        "import random\n",
        "\n",
        "def main():\n",
        "    secret_number = random.randint(0, 99)\n",
        "    guess = None\n",
        "    name1 = \"yes\"\n",
        "    name2 = \"no\"\n",
        "\n",
        "    print(\"I am thinking of a number between 0 and 99...\")\n",
        "    print()\n",
        "\n",
        "    while guess != secret_number:\n",
        "        guess = int(input(\"Enter a guess: \"))\n",
        "\n",
        "        if guess > secret_number:\n",
        "            print(\"Your guess is too high\")\n",
        "            print()\n",
        "        elif guess < secret_number:\n",
        "            print(\"Your guess is too low\")\n",
        "            print()\n",
        "        else:\n",
        "            print(f\"Congrats! The number was: {secret_number} 🎉🥳 \")\n",
        "            print()\n",
        "\n",
        "\n",
        "            play_again = input(\"Do you want to play again? (yes/no): \").lower()\n",
        "            print()\n",
        "\n",
        "            if play_again == name1:\n",
        "                print(\"Let's go! Starting a new game.\")\n",
        "                main()\n",
        "                break\n",
        "            elif play_again == name2:\n",
        "                print(\"Sorry to see you go!\")\n",
        "                break\n",
        "            else:\n",
        "                print(\"Invalid input. Please type 'yes' or 'no'.\")\n",
        "                break\n",
        "\n",
        "if __name__ == '__main__':\n",
        "    main()\n",
        "\n"
      ]
    }
  ],
  "metadata": {
    "colab": {
      "provenance": [],
      "gpuType": "T4"
    },
    "kernelspec": {
      "display_name": "Python 3",
      "name": "python3"
    },
    "language_info": {
      "name": "python"
    },
    "accelerator": "GPU"
  },
  "nbformat": 4,
  "nbformat_minor": 0
}