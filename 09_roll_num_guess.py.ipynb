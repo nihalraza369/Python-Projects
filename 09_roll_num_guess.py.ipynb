{
  "nbformat": 4,
  "nbformat_minor": 0,
  "metadata": {
    "colab": {
      "provenance": []
    },
    "kernelspec": {
      "name": "python3",
      "display_name": "Python 3"
    },
    "language_info": {
      "name": "python"
    }
  },
  "cells": [
    {
      "cell_type": "code",
      "execution_count": 2,
      "metadata": {
        "colab": {
          "base_uri": "https://localhost:8080/"
        },
        "id": "fjWwwgCiX47j",
        "outputId": "1fe7537d-6735-425e-927d-bd5c5845e4c3"
      },
      "outputs": [
        {
          "output_type": "stream",
          "name": "stdout",
          "text": [
            "enter your rollnumber9005\n",
            "nihal raza\n",
            "100\n",
            "top medal\n",
            "congrulation\n"
          ]
        }
      ],
      "source": [
        "#\"I've made something where, if you enter a roll number for a name, it will display the full details. For example,\n",
        "#like in our matric exams, when our result comes, we enter our roll number, and it shows our result. I've made something similar here.\"\n",
        "position=int(input(\"enter your rollnumber\"))\n",
        "if(position==9005):\n",
        "    print(\"nihal raza\")\n",
        "    print(100)\n",
        "    print(\"top medal\")\n",
        "    print(\"congrulation\")\n",
        "elif (position==9105):\n",
        "    print(\"habib ur rehman\")\n",
        "    print(95)\n",
        "    print(\"gold medal\")\n",
        "    print(\"congrulation\")\n",
        "elif (position==9205):\n",
        "    print(\"sheikh huzaifa\")\n",
        "    print(85)\n",
        "    print(\"silver medal\")\n",
        "    print(\"congrulation\")\n",
        "elif (position==9305):\n",
        "    print(\"khizer zahid\")\n",
        "    print(100)\n",
        "    print(\"bronze medal\")\n",
        "    print(\"congrulation\")\n",
        "\n",
        "else:\n",
        "    print(\"please enter a correct roll number\")"
      ]
    }
  ]
}