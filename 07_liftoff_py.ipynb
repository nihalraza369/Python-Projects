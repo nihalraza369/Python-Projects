{
  "nbformat": 4,
  "nbformat_minor": 0,
  "metadata": {
    "colab": {
      "provenance": []
    },
    "kernelspec": {
      "name": "python3",
      "display_name": "Python 3"
    },
    "language_info": {
      "name": "python"
    }
  },
  "cells": [
    {
      "cell_type": "code",
      "execution_count": null,
      "metadata": {
        "colab": {
          "base_uri": "https://localhost:8080/"
        },
        "id": "jYLLfn9S5ieX",
        "outputId": "9d779cea-39e1-4f72-970d-ab1e58723eb5"
      },
      "outputs": [
        {
          "output_type": "stream",
          "name": "stdout",
          "text": [
            "Liftoff!\n",
            "10 9 8 7 6 5 4 3 2 1 "
          ]
        }
      ],
      "source": [
        "#\"This is a simple game where it will go from 10 down to 1, that's it.\"\n",
        "def main():\n",
        "  for i in range(10, 0, -1):\n",
        "    print(i, end=\" \")\n",
        "print(\"Liftoff!\")\n",
        "if __name__ == '__main__':\n",
        "    main()"
      ]
    }
  ]
}