{
  "nbformat": 4,
  "nbformat_minor": 0,
  "metadata": {
    "colab": {
      "provenance": []
    },
    "kernelspec": {
      "name": "python3",
      "display_name": "Python 3"
    },
    "language_info": {
      "name": "python"
    }
  },
  "cells": [
    {
      "cell_type": "code",
      "execution_count": null,
      "metadata": {
        "colab": {
          "base_uri": "https://localhost:8080/"
        },
        "id": "YtNMJa4HYOqX",
        "outputId": "74376e18-8c58-4960-915c-7c17592d1ba7"
      },
      "outputs": [
        {
          "output_type": "stream",
          "name": "stdout",
          "text": [
            "What do you want? joke\n",
            " One day, a software engineer and a doctor were sitting in a café talking. The doctor said to the engineer, You guys are so lucky; you write code, and everything is under control. We doctors have to depend on the moods of our patients. The engineer laughed and replied, Bro, you have no idea, we also face bugs in our code that are more unpredictable than patients!\n",
            "Curious, the doctor asked, Okay, give me an example. The engineer said, Just like sometimes your patient's condition can become critical, sometimes when code is deployed, the whole server goes down. At that point, we also go into ICU mode! The doctor laughed and said, So, do you get emergency calls too? The engineer replied with a cheeky smile, Yes, but the difference is that we don't save lives; we save servers!\n"
          ]
        }
      ],
      "source": [
        "#\"This game is for the joke-bot. If someone writes 'joke,' they will be told a joke. If they write anything else, it will show the message 'Sorry, I only tell jokes.'\"\n",
        "def main():\n",
        "  PROMPT:str = \"What do you want? \"\n",
        "  JOKE:str =\"\"\"One day, a software engineer and a doctor were sitting in a café talking. The doctor said to the engineer, You guys are so lucky; you write code, and everything is under control. We doctors have to depend on the moods of our patients. The engineer laughed and replied, Bro, you have no idea, we also face bugs in our code that are more unpredictable than patients!\n",
        "            Curious, the doctor asked, Okay, give me an example. The engineer said, Just like sometimes your patient's condition can become critical, sometimes when code is deployed, the whole server goes down. At that point, we also go into ICU mode! The doctor laughed and said, So, do you get emergency calls too? The engineer replied with a cheeky smile, Yes, but the difference is that we don't save lives; we save servers!\"\"\"\n",
        "  SORRY:str = \"Sorry, I only tell jokes.\"\n",
        "\n",
        "user_input =str(input(PROMPT));\n",
        "\n",
        "if \"joke\" ==user_input:\n",
        "      print(JOKE)\n",
        "else:\n",
        "      print(SORRY)\n",
        "if __name__ == '__main__'  :\n",
        "     main()"
      ]
    }
  ]
}