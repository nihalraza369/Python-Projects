{
  "nbformat": 4,
  "nbformat_minor": 0,
  "metadata": {
    "colab": {
      "provenance": []
    },
    "kernelspec": {
      "name": "python3",
      "display_name": "Python 3"
    },
    "language_info": {
      "name": "python"
    }
  },
  "cells": [
    {
      "cell_type": "code",
      "execution_count": 1,
      "metadata": {
        "colab": {
          "base_uri": "https://localhost:8080/"
        },
        "id": "p-VMFG8b9pjh",
        "outputId": "92876201-2ef8-435e-e21b-cfe39e1e32c6"
      },
      "outputs": [
        {
          "output_type": "stream",
          "name": "stdout",
          "text": [
            "Welcome to the Multiplication Game!\n",
            "\n",
            "Round 1\n",
            "\n",
            "What is 6 * 3?\n",
            "Enter your answer: 18\n",
            "Correct! Score: 1 🎉\n",
            "\n",
            "Round 2\n",
            "\n",
            "What is 8 * 4?\n",
            "Enter your answer: 32\n",
            "Correct! Score: 2 🎉\n",
            "\n",
            "Round 3\n",
            "\n",
            "What is 9 * 5?\n",
            "Enter your answer: 45\n",
            "Correct! Score: 3 🎉\n",
            "\n",
            "Round 4\n",
            "\n",
            "What is 6 * 1?\n",
            "Enter your answer: 6\n",
            "Correct! Score: 4 🎉\n",
            "\n",
            "Round 5\n",
            "\n",
            "What is 2 * 9?\n",
            "Enter your answer: 89\n",
            "Oops! The correct answer was 18\n",
            "\n",
            "Game over! Your total score is: 4\n"
          ]
        }
      ],
      "source": [
        "#\"I have made this game based on a table, where you just have to multiply. There will be 5 rounds, and each round will have a different number. If you answer correctly, your score will increase by 1. If you answer incorrectly, it will say 'Oops! The correct answer was.' After all 5 rounds, your total score will be displayed.\"\n",
        "import random\n",
        "\n",
        "calculate_num = 5\n",
        "score = 0\n",
        "\n",
        "print(\"Welcome to the Multiplication Game!\")\n",
        "print()\n",
        "\n",
        "for round_num in range(1, calculate_num + 1):\n",
        "    print(f\"Round {round_num}\")\n",
        "    print()\n",
        "\n",
        "\n",
        "    num1 = random.randint(1, 10)\n",
        "    num2 = random.randint(1, 10)\n",
        "\n",
        "    print(f\"What is {num1} * {num2}?\")\n",
        "    calculate = num1 * num2\n",
        "    user_guess = int(input(\"Enter your answer: \"))\n",
        "\n",
        "    if user_guess == calculate:\n",
        "        score += 1\n",
        "        print(f\"Correct! Score: {score} 🎉\")\n",
        "    else:\n",
        "        print(f\"Oops! The correct answer was {calculate}\")\n",
        "\n",
        "    print()\n",
        "\n",
        "print(f\"Game over! Your total score is: {score}\")\n"
      ]
    }
  ]
}