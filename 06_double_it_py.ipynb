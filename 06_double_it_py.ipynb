{
  "nbformat": 4,
  "nbformat_minor": 0,
  "metadata": {
    "colab": {
      "provenance": []
    },
    "kernelspec": {
      "name": "python3",
      "display_name": "Python 3"
    },
    "language_info": {
      "name": "python"
    }
  },
  "cells": [
    {
      "cell_type": "code",
      "execution_count": null,
      "metadata": {
        "colab": {
          "base_uri": "https://localhost:8080/"
        },
        "id": "szRg24mDsVOf",
        "outputId": "777900fc-f3da-4999-c4f4-3d3e16a793bd"
      },
      "outputs": [
        {
          "output_type": "stream",
          "name": "stdout",
          "text": [
            "Please enter a number: 7\n",
            "14 28 56 112 "
          ]
        }
      ],
      "source": [
        "#\"This game is for currency value, where the number will be multiplied by 2. For example, if you write 7, the answers will be (14, 28, 56, etc.),\n",
        "def main():\n",
        "  curr_value = int(input(\"Please enter a number: \"))\n",
        "  while curr_value < 100:\n",
        "    curr_value = curr_value * 2\n",
        "    print(curr_value, end=' ')\n",
        "if __name__ == '__main__':\n",
        "    main()\n"
      ]
    }
  ]
}